{
 "cells": [
  {
   "cell_type": "markdown",
   "metadata": {},
   "source": [
    "`data/englishonset` 데이터를 학습합시다."
   ]
  },
  {
   "cell_type": "code",
   "execution_count": 3,
   "metadata": {},
   "outputs": [],
   "source": [
    "from phoncon.corpus import LearningData, slice_word, randomize_word\n",
    "from phoncon.features import FeatureSystem\n",
    "\n",
    "LEARNING_DATA = \"./data/englishonset/EnglishLearningData.txt\"\n",
    "FEATURES = \"./data/englishonset/EnglishFeatures.txt\"\n",
    "\n",
    "ld = LearningData(LEARNING_DATA, prefix=\"# \")\n",
    "fs = FeatureSystem(FEATURES, word_boundary=\"#\")"
   ]
  },
  {
   "cell_type": "code",
   "execution_count": 4,
   "metadata": {},
   "outputs": [],
   "source": [
    "from pprint import pprint\n",
    "\n",
    "N = 100\n",
    "well_formed = ld.sample(N)\n",
    "ill_formed = randomize_word(ld.sample(N), fs.get_phonemes())"
   ]
  },
  {
   "cell_type": "code",
   "execution_count": null,
   "metadata": {},
   "outputs": [],
   "source": [
    "# 데이터 만든다\n",
    "\n",
    "# 적당히 변환한다 (X, y)\n",
    "# Decision Tree 돌린다\n",
    "# 결과를 Visualize 한다."
   ]
  }
 ],
 "metadata": {
  "kernelspec": {
   "display_name": "Python 3",
   "language": "python",
   "name": "python3"
  },
  "language_info": {
   "codemirror_mode": {
    "name": "ipython",
    "version": 3
   },
   "file_extension": ".py",
   "mimetype": "text/x-python",
   "name": "python",
   "nbconvert_exporter": "python",
   "pygments_lexer": "ipython3",
   "version": "3.10.14"
  }
 },
 "nbformat": 4,
 "nbformat_minor": 2
}
